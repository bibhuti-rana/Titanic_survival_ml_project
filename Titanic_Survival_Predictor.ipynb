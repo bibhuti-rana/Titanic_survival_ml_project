{
 "cells": [
  {
   "cell_type": "markdown",
   "id": "891724c2",
   "metadata": {},
   "source": [
    "# 🚢 Titanic Survival Predictor"
   ]
  },
  {
   "cell_type": "code",
   "execution_count": null,
   "id": "4d15c6e2",
   "metadata": {},
   "outputs": [],
   "source": [
    "import pandas as pd\n",
    "import seaborn as sns\n",
    "import matplotlib.pyplot as plt\n",
    "from sklearn.model_selection import train_test_split\n",
    "from sklearn.linear_model import LogisticRegression\n",
    "from sklearn.metrics import accuracy_score\n",
    "\n",
    "df = sns.load_dataset('titanic')\n",
    "df = df.dropna(subset=['age', 'fare', 'embarked', 'sex'])\n",
    "df['sex'] = df['sex'].map({'male': 0, 'female': 1})\n",
    "df['embarked'] = df['embarked'].map({'S': 0, 'C': 1, 'Q': 2})\n",
    "\n",
    "features = ['pclass', 'sex', 'age', 'fare', 'embarked']\n",
    "X = df[features]\n",
    "y = df['survived']\n",
    "\n",
    "X_train, X_test, y_train, y_test = train_test_split(X, y, test_size=0.2, random_state=42)\n",
    "model = LogisticRegression(max_iter=1000)\n",
    "model.fit(X_train, y_train)\n",
    "y_pred = model.predict(X_test)\n",
    "\n",
    "print('Accuracy:', accuracy_score(y_test, y_pred))\n",
    "\n",
    "importance = model.coef_[0]\n",
    "sns.barplot(x=importance, y=features)\n",
    "plt.title(\"Feature Importance\")\n",
    "plt.show()\n"
   ]
  }
 ],
 "metadata": {},
 "nbformat": 4,
 "nbformat_minor": 5
}